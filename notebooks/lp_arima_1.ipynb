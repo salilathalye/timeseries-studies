{
  "nbformat": 4,
  "nbformat_minor": 0,
  "metadata": {
    "colab": {
      "name": "lp_arima_1.ipynb",
      "provenance": [],
      "collapsed_sections": []
    },
    "kernelspec": {
      "name": "python3",
      "display_name": "Python 3"
    }
  },
  "cells": [
    {
      "cell_type": "markdown",
      "metadata": {
        "id": "yBawZj05dfgc"
      },
      "source": [
        "<H1>Conversations with Austin</H1>\n",
        "<h2>Ad-hoc Template\n",
        "<p>\n",
        "<p>\n",
        "\n",
        "Wait ... who is Austin, you ask? Austin the Apex Duck is my [Rubber Duck Debug buddy](https:en.wikipedia.org/wiki/Rubber_duck_debugging). Usually a pretty quiet type of guy, but I sense hidden depths of knowledge. Our chats usually start with me staring at something for a long time, then asking a question something like: \"Hey Austin, what do you know about Kappa?\". His usual response is: \"Kappa? Tell me more, please\". This usually starts a back and forth dialogue where he eggs (no pun intended!) me on to explain more. He's all about putting things in writing, which is why I'm sitting here taking notes which I'm cataloguing in a series called \"Chats with Austin\".\n",
        "\n",
        "Salil Athalye\n",
        "www.oratorvert.com\n"
      ]
    },
    {
      "cell_type": "markdown",
      "metadata": {
        "id": "qSgbkmQVfe7q"
      },
      "source": [
        "# Configure Environment and Install Packages\n"
      ]
    },
    {
      "cell_type": "code",
      "metadata": {
        "id": "YlZ4vhyA90EI"
      },
      "source": [
        ""
      ],
      "execution_count": 12,
      "outputs": []
    },
    {
      "cell_type": "markdown",
      "metadata": {
        "id": "4u7RACdYeM9M"
      },
      "source": [
        "# Import Libraries\n"
      ]
    },
    {
      "cell_type": "code",
      "metadata": {
        "id": "IRfsBMYcdcNM"
      },
      "source": [
        "from datetime import datetime\n",
        "from datetime import timezone\n",
        "import pandas as pd\n",
        "import numpy as np\n",
        "import matplotlib.pyplot as plt\n",
        "import seaborn as sns\n",
        "import json\n",
        "from google.colab import files\n",
        "\n"
      ],
      "execution_count": 13,
      "outputs": []
    },
    {
      "cell_type": "markdown",
      "metadata": {
        "id": "jYAa-SVnf6uY"
      },
      "source": [
        "# Set Experiment Parameters\n"
      ]
    },
    {
      "cell_type": "code",
      "metadata": {
        "id": "uscaSXq6f5fp"
      },
      "source": [
        "EXPERIMENT_NAME = 'lp_arima_1'\n",
        "SESSION_ID = 3435\n",
        "DATA_SOURCE = \"https://lp-prod-resources.s3.amazonaws.com/250/43958/2021-02-04-19-15-15/H1.csv\"\n",
        "TARGET_COL = 'IsCanceled'\n",
        "DOWNLOAD_ZIPFILE = False"
      ],
      "execution_count": 14,
      "outputs": []
    },
    {
      "cell_type": "code",
      "metadata": {
        "id": "eWLWtAeaZCT9"
      },
      "source": [
        "\n",
        "\n",
        "dt = datetime.now()\n",
        "dt.replace(tzinfo=timezone.utc)\n",
        "utc_timestamp = dt.replace(tzinfo=timezone.utc).isoformat(timespec='seconds')\n",
        "# Replace ':' and '-' and retain up to seconds\n",
        "UTC_TIMESTAMP = utc_timestamp.replace(':','').replace('-',\"\")[:15]\n"
      ],
      "execution_count": 15,
      "outputs": []
    },
    {
      "cell_type": "markdown",
      "metadata": {
        "id": "7m7jCFpbeReL"
      },
      "source": [
        "# Load the data\n"
      ]
    },
    {
      "cell_type": "code",
      "metadata": {
        "id": "SIXawIsXecZ7"
      },
      "source": [
        "\n",
        "dtype_mapping = {}\n",
        "data  = pd.read_csv(DATA_SOURCE, dtype=dtype_mapping)\n",
        "\n",
        "\n",
        "# Save any decisions we took on dtype mapping so we can reuse this in other applications\n",
        "with open('dtype_mapping.json','w') as f:\n",
        "  json.dump(dtype_mapping, f)"
      ],
      "execution_count": 16,
      "outputs": []
    },
    {
      "cell_type": "markdown",
      "metadata": {
        "id": "jEhIQ3UlwHkU"
      },
      "source": [
        "###Data Description\n",
        "\n",
        "\n",
        "<p>\n",
        "Target: IsCanceled, binary\n",
        "\n",
        "\n"
      ]
    },
    {
      "cell_type": "code",
      "metadata": {
        "colab": {
          "base_uri": "https://localhost:8080/"
        },
        "id": "BD3NgqVgaMPX",
        "outputId": "2d1e26f0-879b-4061-b742-ea5472761a50"
      },
      "source": [
        "data.shape"
      ],
      "execution_count": 17,
      "outputs": [
        {
          "output_type": "execute_result",
          "data": {
            "text/plain": [
              "(40060, 31)"
            ]
          },
          "metadata": {
            "tags": []
          },
          "execution_count": 17
        }
      ]
    },
    {
      "cell_type": "code",
      "metadata": {
        "colab": {
          "base_uri": "https://localhost:8080/",
          "height": 224
        },
        "id": "A0ufb-GrvedU",
        "outputId": "3f132606-eaff-431e-eee8-5db41d31234a"
      },
      "source": [
        "data.head(5)"
      ],
      "execution_count": 18,
      "outputs": [
        {
          "output_type": "execute_result",
          "data": {
            "text/html": [
              "<div>\n",
              "<style scoped>\n",
              "    .dataframe tbody tr th:only-of-type {\n",
              "        vertical-align: middle;\n",
              "    }\n",
              "\n",
              "    .dataframe tbody tr th {\n",
              "        vertical-align: top;\n",
              "    }\n",
              "\n",
              "    .dataframe thead th {\n",
              "        text-align: right;\n",
              "    }\n",
              "</style>\n",
              "<table border=\"1\" class=\"dataframe\">\n",
              "  <thead>\n",
              "    <tr style=\"text-align: right;\">\n",
              "      <th></th>\n",
              "      <th>IsCanceled</th>\n",
              "      <th>LeadTime</th>\n",
              "      <th>ArrivalDateYear</th>\n",
              "      <th>ArrivalDateMonth</th>\n",
              "      <th>ArrivalDateWeekNumber</th>\n",
              "      <th>ArrivalDateDayOfMonth</th>\n",
              "      <th>StaysInWeekendNights</th>\n",
              "      <th>StaysInWeekNights</th>\n",
              "      <th>Adults</th>\n",
              "      <th>Children</th>\n",
              "      <th>Babies</th>\n",
              "      <th>Meal</th>\n",
              "      <th>Country</th>\n",
              "      <th>MarketSegment</th>\n",
              "      <th>DistributionChannel</th>\n",
              "      <th>IsRepeatedGuest</th>\n",
              "      <th>PreviousCancellations</th>\n",
              "      <th>PreviousBookingsNotCanceled</th>\n",
              "      <th>ReservedRoomType</th>\n",
              "      <th>AssignedRoomType</th>\n",
              "      <th>BookingChanges</th>\n",
              "      <th>DepositType</th>\n",
              "      <th>Agent</th>\n",
              "      <th>Company</th>\n",
              "      <th>DaysInWaitingList</th>\n",
              "      <th>CustomerType</th>\n",
              "      <th>ADR</th>\n",
              "      <th>RequiredCarParkingSpaces</th>\n",
              "      <th>TotalOfSpecialRequests</th>\n",
              "      <th>ReservationStatus</th>\n",
              "      <th>ReservationStatusDate</th>\n",
              "    </tr>\n",
              "  </thead>\n",
              "  <tbody>\n",
              "    <tr>\n",
              "      <th>0</th>\n",
              "      <td>0</td>\n",
              "      <td>342</td>\n",
              "      <td>2015</td>\n",
              "      <td>July</td>\n",
              "      <td>27</td>\n",
              "      <td>1</td>\n",
              "      <td>0</td>\n",
              "      <td>0</td>\n",
              "      <td>2</td>\n",
              "      <td>0</td>\n",
              "      <td>0</td>\n",
              "      <td>BB</td>\n",
              "      <td>PRT</td>\n",
              "      <td>Direct</td>\n",
              "      <td>Direct</td>\n",
              "      <td>0</td>\n",
              "      <td>0</td>\n",
              "      <td>0</td>\n",
              "      <td>C</td>\n",
              "      <td>C</td>\n",
              "      <td>3</td>\n",
              "      <td>No Deposit</td>\n",
              "      <td>NULL</td>\n",
              "      <td>NULL</td>\n",
              "      <td>0</td>\n",
              "      <td>Transient</td>\n",
              "      <td>0.0</td>\n",
              "      <td>0</td>\n",
              "      <td>0</td>\n",
              "      <td>Check-Out</td>\n",
              "      <td>2015-07-01</td>\n",
              "    </tr>\n",
              "    <tr>\n",
              "      <th>1</th>\n",
              "      <td>0</td>\n",
              "      <td>737</td>\n",
              "      <td>2015</td>\n",
              "      <td>July</td>\n",
              "      <td>27</td>\n",
              "      <td>1</td>\n",
              "      <td>0</td>\n",
              "      <td>0</td>\n",
              "      <td>2</td>\n",
              "      <td>0</td>\n",
              "      <td>0</td>\n",
              "      <td>BB</td>\n",
              "      <td>PRT</td>\n",
              "      <td>Direct</td>\n",
              "      <td>Direct</td>\n",
              "      <td>0</td>\n",
              "      <td>0</td>\n",
              "      <td>0</td>\n",
              "      <td>C</td>\n",
              "      <td>C</td>\n",
              "      <td>4</td>\n",
              "      <td>No Deposit</td>\n",
              "      <td>NULL</td>\n",
              "      <td>NULL</td>\n",
              "      <td>0</td>\n",
              "      <td>Transient</td>\n",
              "      <td>0.0</td>\n",
              "      <td>0</td>\n",
              "      <td>0</td>\n",
              "      <td>Check-Out</td>\n",
              "      <td>2015-07-01</td>\n",
              "    </tr>\n",
              "    <tr>\n",
              "      <th>2</th>\n",
              "      <td>0</td>\n",
              "      <td>7</td>\n",
              "      <td>2015</td>\n",
              "      <td>July</td>\n",
              "      <td>27</td>\n",
              "      <td>1</td>\n",
              "      <td>0</td>\n",
              "      <td>1</td>\n",
              "      <td>1</td>\n",
              "      <td>0</td>\n",
              "      <td>0</td>\n",
              "      <td>BB</td>\n",
              "      <td>GBR</td>\n",
              "      <td>Direct</td>\n",
              "      <td>Direct</td>\n",
              "      <td>0</td>\n",
              "      <td>0</td>\n",
              "      <td>0</td>\n",
              "      <td>A</td>\n",
              "      <td>C</td>\n",
              "      <td>0</td>\n",
              "      <td>No Deposit</td>\n",
              "      <td>NULL</td>\n",
              "      <td>NULL</td>\n",
              "      <td>0</td>\n",
              "      <td>Transient</td>\n",
              "      <td>75.0</td>\n",
              "      <td>0</td>\n",
              "      <td>0</td>\n",
              "      <td>Check-Out</td>\n",
              "      <td>2015-07-02</td>\n",
              "    </tr>\n",
              "    <tr>\n",
              "      <th>3</th>\n",
              "      <td>0</td>\n",
              "      <td>13</td>\n",
              "      <td>2015</td>\n",
              "      <td>July</td>\n",
              "      <td>27</td>\n",
              "      <td>1</td>\n",
              "      <td>0</td>\n",
              "      <td>1</td>\n",
              "      <td>1</td>\n",
              "      <td>0</td>\n",
              "      <td>0</td>\n",
              "      <td>BB</td>\n",
              "      <td>GBR</td>\n",
              "      <td>Corporate</td>\n",
              "      <td>Corporate</td>\n",
              "      <td>0</td>\n",
              "      <td>0</td>\n",
              "      <td>0</td>\n",
              "      <td>A</td>\n",
              "      <td>A</td>\n",
              "      <td>0</td>\n",
              "      <td>No Deposit</td>\n",
              "      <td>304</td>\n",
              "      <td>NULL</td>\n",
              "      <td>0</td>\n",
              "      <td>Transient</td>\n",
              "      <td>75.0</td>\n",
              "      <td>0</td>\n",
              "      <td>0</td>\n",
              "      <td>Check-Out</td>\n",
              "      <td>2015-07-02</td>\n",
              "    </tr>\n",
              "    <tr>\n",
              "      <th>4</th>\n",
              "      <td>0</td>\n",
              "      <td>14</td>\n",
              "      <td>2015</td>\n",
              "      <td>July</td>\n",
              "      <td>27</td>\n",
              "      <td>1</td>\n",
              "      <td>0</td>\n",
              "      <td>2</td>\n",
              "      <td>2</td>\n",
              "      <td>0</td>\n",
              "      <td>0</td>\n",
              "      <td>BB</td>\n",
              "      <td>GBR</td>\n",
              "      <td>Online TA</td>\n",
              "      <td>TA/TO</td>\n",
              "      <td>0</td>\n",
              "      <td>0</td>\n",
              "      <td>0</td>\n",
              "      <td>A</td>\n",
              "      <td>A</td>\n",
              "      <td>0</td>\n",
              "      <td>No Deposit</td>\n",
              "      <td>240</td>\n",
              "      <td>NULL</td>\n",
              "      <td>0</td>\n",
              "      <td>Transient</td>\n",
              "      <td>98.0</td>\n",
              "      <td>0</td>\n",
              "      <td>1</td>\n",
              "      <td>Check-Out</td>\n",
              "      <td>2015-07-03</td>\n",
              "    </tr>\n",
              "  </tbody>\n",
              "</table>\n",
              "</div>"
            ],
            "text/plain": [
              "   IsCanceled  LeadTime  ...  ReservationStatus ReservationStatusDate\n",
              "0           0       342  ...          Check-Out            2015-07-01\n",
              "1           0       737  ...          Check-Out            2015-07-01\n",
              "2           0         7  ...          Check-Out            2015-07-02\n",
              "3           0        13  ...          Check-Out            2015-07-02\n",
              "4           0        14  ...          Check-Out            2015-07-03\n",
              "\n",
              "[5 rows x 31 columns]"
            ]
          },
          "metadata": {
            "tags": []
          },
          "execution_count": 18
        }
      ]
    },
    {
      "cell_type": "code",
      "metadata": {
        "colab": {
          "base_uri": "https://localhost:8080/"
        },
        "id": "-dzG7V3AvY45",
        "outputId": "be71a4cf-de14-4417-c710-adbad4f4d906"
      },
      "source": [
        "data.info()"
      ],
      "execution_count": 19,
      "outputs": [
        {
          "output_type": "stream",
          "text": [
            "<class 'pandas.core.frame.DataFrame'>\n",
            "RangeIndex: 40060 entries, 0 to 40059\n",
            "Data columns (total 31 columns):\n",
            " #   Column                       Non-Null Count  Dtype  \n",
            "---  ------                       --------------  -----  \n",
            " 0   IsCanceled                   40060 non-null  int64  \n",
            " 1   LeadTime                     40060 non-null  int64  \n",
            " 2   ArrivalDateYear              40060 non-null  int64  \n",
            " 3   ArrivalDateMonth             40060 non-null  object \n",
            " 4   ArrivalDateWeekNumber        40060 non-null  int64  \n",
            " 5   ArrivalDateDayOfMonth        40060 non-null  int64  \n",
            " 6   StaysInWeekendNights         40060 non-null  int64  \n",
            " 7   StaysInWeekNights            40060 non-null  int64  \n",
            " 8   Adults                       40060 non-null  int64  \n",
            " 9   Children                     40060 non-null  int64  \n",
            " 10  Babies                       40060 non-null  int64  \n",
            " 11  Meal                         40060 non-null  object \n",
            " 12  Country                      39596 non-null  object \n",
            " 13  MarketSegment                40060 non-null  object \n",
            " 14  DistributionChannel          40060 non-null  object \n",
            " 15  IsRepeatedGuest              40060 non-null  int64  \n",
            " 16  PreviousCancellations        40060 non-null  int64  \n",
            " 17  PreviousBookingsNotCanceled  40060 non-null  int64  \n",
            " 18  ReservedRoomType             40060 non-null  object \n",
            " 19  AssignedRoomType             40060 non-null  object \n",
            " 20  BookingChanges               40060 non-null  int64  \n",
            " 21  DepositType                  40060 non-null  object \n",
            " 22  Agent                        40060 non-null  object \n",
            " 23  Company                      40060 non-null  object \n",
            " 24  DaysInWaitingList            40060 non-null  int64  \n",
            " 25  CustomerType                 40060 non-null  object \n",
            " 26  ADR                          40060 non-null  float64\n",
            " 27  RequiredCarParkingSpaces     40060 non-null  int64  \n",
            " 28  TotalOfSpecialRequests       40060 non-null  int64  \n",
            " 29  ReservationStatus            40060 non-null  object \n",
            " 30  ReservationStatusDate        40060 non-null  object \n",
            "dtypes: float64(1), int64(17), object(13)\n",
            "memory usage: 9.5+ MB\n"
          ],
          "name": "stdout"
        }
      ]
    },
    {
      "cell_type": "code",
      "metadata": {
        "colab": {
          "base_uri": "https://localhost:8080/"
        },
        "id": "O9_0WL6Xx3vd",
        "outputId": "5372be06-fab0-4bb6-caf4-25de09933664"
      },
      "source": [
        "data.isna().sum()"
      ],
      "execution_count": 20,
      "outputs": [
        {
          "output_type": "execute_result",
          "data": {
            "text/plain": [
              "IsCanceled                       0\n",
              "LeadTime                         0\n",
              "ArrivalDateYear                  0\n",
              "ArrivalDateMonth                 0\n",
              "ArrivalDateWeekNumber            0\n",
              "ArrivalDateDayOfMonth            0\n",
              "StaysInWeekendNights             0\n",
              "StaysInWeekNights                0\n",
              "Adults                           0\n",
              "Children                         0\n",
              "Babies                           0\n",
              "Meal                             0\n",
              "Country                        464\n",
              "MarketSegment                    0\n",
              "DistributionChannel              0\n",
              "IsRepeatedGuest                  0\n",
              "PreviousCancellations            0\n",
              "PreviousBookingsNotCanceled      0\n",
              "ReservedRoomType                 0\n",
              "AssignedRoomType                 0\n",
              "BookingChanges                   0\n",
              "DepositType                      0\n",
              "Agent                            0\n",
              "Company                          0\n",
              "DaysInWaitingList                0\n",
              "CustomerType                     0\n",
              "ADR                              0\n",
              "RequiredCarParkingSpaces         0\n",
              "TotalOfSpecialRequests           0\n",
              "ReservationStatus                0\n",
              "ReservationStatusDate            0\n",
              "dtype: int64"
            ]
          },
          "metadata": {
            "tags": []
          },
          "execution_count": 20
        }
      ]
    },
    {
      "cell_type": "code",
      "metadata": {
        "colab": {
          "base_uri": "https://localhost:8080/",
          "height": 317
        },
        "id": "fFMYQy_qvcFG",
        "outputId": "7a2d83d9-3914-4cb1-a72f-76f13b1bc30b"
      },
      "source": [
        "data.describe()"
      ],
      "execution_count": 21,
      "outputs": [
        {
          "output_type": "execute_result",
          "data": {
            "text/html": [
              "<div>\n",
              "<style scoped>\n",
              "    .dataframe tbody tr th:only-of-type {\n",
              "        vertical-align: middle;\n",
              "    }\n",
              "\n",
              "    .dataframe tbody tr th {\n",
              "        vertical-align: top;\n",
              "    }\n",
              "\n",
              "    .dataframe thead th {\n",
              "        text-align: right;\n",
              "    }\n",
              "</style>\n",
              "<table border=\"1\" class=\"dataframe\">\n",
              "  <thead>\n",
              "    <tr style=\"text-align: right;\">\n",
              "      <th></th>\n",
              "      <th>IsCanceled</th>\n",
              "      <th>LeadTime</th>\n",
              "      <th>ArrivalDateYear</th>\n",
              "      <th>ArrivalDateWeekNumber</th>\n",
              "      <th>ArrivalDateDayOfMonth</th>\n",
              "      <th>StaysInWeekendNights</th>\n",
              "      <th>StaysInWeekNights</th>\n",
              "      <th>Adults</th>\n",
              "      <th>Children</th>\n",
              "      <th>Babies</th>\n",
              "      <th>IsRepeatedGuest</th>\n",
              "      <th>PreviousCancellations</th>\n",
              "      <th>PreviousBookingsNotCanceled</th>\n",
              "      <th>BookingChanges</th>\n",
              "      <th>DaysInWaitingList</th>\n",
              "      <th>ADR</th>\n",
              "      <th>RequiredCarParkingSpaces</th>\n",
              "      <th>TotalOfSpecialRequests</th>\n",
              "    </tr>\n",
              "  </thead>\n",
              "  <tbody>\n",
              "    <tr>\n",
              "      <th>count</th>\n",
              "      <td>40060.000000</td>\n",
              "      <td>40060.000000</td>\n",
              "      <td>40060.000000</td>\n",
              "      <td>40060.000000</td>\n",
              "      <td>40060.000000</td>\n",
              "      <td>40060.000000</td>\n",
              "      <td>40060.000000</td>\n",
              "      <td>40060.000000</td>\n",
              "      <td>40060.000000</td>\n",
              "      <td>40060.000000</td>\n",
              "      <td>40060.000000</td>\n",
              "      <td>40060.000000</td>\n",
              "      <td>40060.000000</td>\n",
              "      <td>40060.000000</td>\n",
              "      <td>40060.000000</td>\n",
              "      <td>40060.000000</td>\n",
              "      <td>40060.000000</td>\n",
              "      <td>40060.00000</td>\n",
              "    </tr>\n",
              "    <tr>\n",
              "      <th>mean</th>\n",
              "      <td>0.277634</td>\n",
              "      <td>92.675686</td>\n",
              "      <td>2016.121443</td>\n",
              "      <td>27.140864</td>\n",
              "      <td>15.821243</td>\n",
              "      <td>1.189815</td>\n",
              "      <td>3.128732</td>\n",
              "      <td>1.867149</td>\n",
              "      <td>0.128682</td>\n",
              "      <td>0.013904</td>\n",
              "      <td>0.044383</td>\n",
              "      <td>0.101722</td>\n",
              "      <td>0.146455</td>\n",
              "      <td>0.287968</td>\n",
              "      <td>0.527758</td>\n",
              "      <td>94.952930</td>\n",
              "      <td>0.138068</td>\n",
              "      <td>0.61977</td>\n",
              "    </tr>\n",
              "    <tr>\n",
              "      <th>std</th>\n",
              "      <td>0.447837</td>\n",
              "      <td>97.285315</td>\n",
              "      <td>0.722347</td>\n",
              "      <td>14.005441</td>\n",
              "      <td>8.883708</td>\n",
              "      <td>1.147812</td>\n",
              "      <td>2.461329</td>\n",
              "      <td>0.697285</td>\n",
              "      <td>0.445195</td>\n",
              "      <td>0.118998</td>\n",
              "      <td>0.205948</td>\n",
              "      <td>1.335115</td>\n",
              "      <td>1.001955</td>\n",
              "      <td>0.726548</td>\n",
              "      <td>7.428580</td>\n",
              "      <td>61.442418</td>\n",
              "      <td>0.351001</td>\n",
              "      <td>0.81393</td>\n",
              "    </tr>\n",
              "    <tr>\n",
              "      <th>min</th>\n",
              "      <td>0.000000</td>\n",
              "      <td>0.000000</td>\n",
              "      <td>2015.000000</td>\n",
              "      <td>1.000000</td>\n",
              "      <td>1.000000</td>\n",
              "      <td>0.000000</td>\n",
              "      <td>0.000000</td>\n",
              "      <td>0.000000</td>\n",
              "      <td>0.000000</td>\n",
              "      <td>0.000000</td>\n",
              "      <td>0.000000</td>\n",
              "      <td>0.000000</td>\n",
              "      <td>0.000000</td>\n",
              "      <td>0.000000</td>\n",
              "      <td>0.000000</td>\n",
              "      <td>-6.380000</td>\n",
              "      <td>0.000000</td>\n",
              "      <td>0.00000</td>\n",
              "    </tr>\n",
              "    <tr>\n",
              "      <th>25%</th>\n",
              "      <td>0.000000</td>\n",
              "      <td>10.000000</td>\n",
              "      <td>2016.000000</td>\n",
              "      <td>16.000000</td>\n",
              "      <td>8.000000</td>\n",
              "      <td>0.000000</td>\n",
              "      <td>1.000000</td>\n",
              "      <td>2.000000</td>\n",
              "      <td>0.000000</td>\n",
              "      <td>0.000000</td>\n",
              "      <td>0.000000</td>\n",
              "      <td>0.000000</td>\n",
              "      <td>0.000000</td>\n",
              "      <td>0.000000</td>\n",
              "      <td>0.000000</td>\n",
              "      <td>50.000000</td>\n",
              "      <td>0.000000</td>\n",
              "      <td>0.00000</td>\n",
              "    </tr>\n",
              "    <tr>\n",
              "      <th>50%</th>\n",
              "      <td>0.000000</td>\n",
              "      <td>57.000000</td>\n",
              "      <td>2016.000000</td>\n",
              "      <td>28.000000</td>\n",
              "      <td>16.000000</td>\n",
              "      <td>1.000000</td>\n",
              "      <td>3.000000</td>\n",
              "      <td>2.000000</td>\n",
              "      <td>0.000000</td>\n",
              "      <td>0.000000</td>\n",
              "      <td>0.000000</td>\n",
              "      <td>0.000000</td>\n",
              "      <td>0.000000</td>\n",
              "      <td>0.000000</td>\n",
              "      <td>0.000000</td>\n",
              "      <td>75.000000</td>\n",
              "      <td>0.000000</td>\n",
              "      <td>0.00000</td>\n",
              "    </tr>\n",
              "    <tr>\n",
              "      <th>75%</th>\n",
              "      <td>1.000000</td>\n",
              "      <td>155.000000</td>\n",
              "      <td>2017.000000</td>\n",
              "      <td>38.000000</td>\n",
              "      <td>24.000000</td>\n",
              "      <td>2.000000</td>\n",
              "      <td>5.000000</td>\n",
              "      <td>2.000000</td>\n",
              "      <td>0.000000</td>\n",
              "      <td>0.000000</td>\n",
              "      <td>0.000000</td>\n",
              "      <td>0.000000</td>\n",
              "      <td>0.000000</td>\n",
              "      <td>0.000000</td>\n",
              "      <td>0.000000</td>\n",
              "      <td>125.000000</td>\n",
              "      <td>0.000000</td>\n",
              "      <td>1.00000</td>\n",
              "    </tr>\n",
              "    <tr>\n",
              "      <th>max</th>\n",
              "      <td>1.000000</td>\n",
              "      <td>737.000000</td>\n",
              "      <td>2017.000000</td>\n",
              "      <td>53.000000</td>\n",
              "      <td>31.000000</td>\n",
              "      <td>19.000000</td>\n",
              "      <td>50.000000</td>\n",
              "      <td>55.000000</td>\n",
              "      <td>10.000000</td>\n",
              "      <td>2.000000</td>\n",
              "      <td>1.000000</td>\n",
              "      <td>26.000000</td>\n",
              "      <td>30.000000</td>\n",
              "      <td>17.000000</td>\n",
              "      <td>185.000000</td>\n",
              "      <td>508.000000</td>\n",
              "      <td>8.000000</td>\n",
              "      <td>5.00000</td>\n",
              "    </tr>\n",
              "  </tbody>\n",
              "</table>\n",
              "</div>"
            ],
            "text/plain": [
              "         IsCanceled  ...  TotalOfSpecialRequests\n",
              "count  40060.000000  ...             40060.00000\n",
              "mean       0.277634  ...                 0.61977\n",
              "std        0.447837  ...                 0.81393\n",
              "min        0.000000  ...                 0.00000\n",
              "25%        0.000000  ...                 0.00000\n",
              "50%        0.000000  ...                 0.00000\n",
              "75%        1.000000  ...                 1.00000\n",
              "max        1.000000  ...                 5.00000\n",
              "\n",
              "[8 rows x 18 columns]"
            ]
          },
          "metadata": {
            "tags": []
          },
          "execution_count": 21
        }
      ]
    },
    {
      "cell_type": "code",
      "metadata": {
        "colab": {
          "base_uri": "https://localhost:8080/"
        },
        "id": "J9AA7pevvtGA",
        "outputId": "4fabffb6-6777-44ec-d0d9-9f2ca471d87a"
      },
      "source": [
        "data[TARGET_COL].value_counts()"
      ],
      "execution_count": 22,
      "outputs": [
        {
          "output_type": "execute_result",
          "data": {
            "text/plain": [
              "0    28938\n",
              "1    11122\n",
              "Name: IsCanceled, dtype: int64"
            ]
          },
          "metadata": {
            "tags": []
          },
          "execution_count": 22
        }
      ]
    },
    {
      "cell_type": "markdown",
      "metadata": {
        "id": "LPg8b8OKazuD"
      },
      "source": [
        "# Perform Basic Exploratory Data Analysis\n"
      ]
    },
    {
      "cell_type": "code",
      "metadata": {
        "id": "1WEo7HGLMXUZ"
      },
      "source": [
        "data['YYYYWW'] = data['ArrivalDateYear'].map(str) + data['ArrivalDateWeekNumber'].map(str)"
      ],
      "execution_count": 31,
      "outputs": []
    },
    {
      "cell_type": "code",
      "metadata": {
        "id": "V07-BYFlOO0f"
      },
      "source": [
        "weekly_cancellations = data[['YYYYWW','IsCanceled']] \\\n",
        "  .groupby(['YYYYWW']) \\\n",
        "  .agg({'IsCanceled':sum})"
      ],
      "execution_count": 38,
      "outputs": []
    },
    {
      "cell_type": "code",
      "metadata": {
        "colab": {
          "base_uri": "https://localhost:8080/",
          "height": 450
        },
        "id": "4wlWneveOgTU",
        "outputId": "56f73678-e1b3-4688-d8ae-430a4e0c73b9"
      },
      "source": [
        "weekly_cancellations"
      ],
      "execution_count": 39,
      "outputs": [
        {
          "output_type": "execute_result",
          "data": {
            "text/html": [
              "<div>\n",
              "<style scoped>\n",
              "    .dataframe tbody tr th:only-of-type {\n",
              "        vertical-align: middle;\n",
              "    }\n",
              "\n",
              "    .dataframe tbody tr th {\n",
              "        vertical-align: top;\n",
              "    }\n",
              "\n",
              "    .dataframe thead th {\n",
              "        text-align: right;\n",
              "    }\n",
              "</style>\n",
              "<table border=\"1\" class=\"dataframe\">\n",
              "  <thead>\n",
              "    <tr style=\"text-align: right;\">\n",
              "      <th></th>\n",
              "      <th>IsCanceled</th>\n",
              "    </tr>\n",
              "    <tr>\n",
              "      <th>YYYYWW</th>\n",
              "      <th></th>\n",
              "    </tr>\n",
              "  </thead>\n",
              "  <tbody>\n",
              "    <tr>\n",
              "      <th>201527</th>\n",
              "      <td>41</td>\n",
              "    </tr>\n",
              "    <tr>\n",
              "      <th>201528</th>\n",
              "      <td>48</td>\n",
              "    </tr>\n",
              "    <tr>\n",
              "      <th>201529</th>\n",
              "      <td>87</td>\n",
              "    </tr>\n",
              "    <tr>\n",
              "      <th>201530</th>\n",
              "      <td>74</td>\n",
              "    </tr>\n",
              "    <tr>\n",
              "      <th>201531</th>\n",
              "      <td>101</td>\n",
              "    </tr>\n",
              "    <tr>\n",
              "      <th>...</th>\n",
              "      <td>...</td>\n",
              "    </tr>\n",
              "    <tr>\n",
              "      <th>20175</th>\n",
              "      <td>51</td>\n",
              "    </tr>\n",
              "    <tr>\n",
              "      <th>20176</th>\n",
              "      <td>91</td>\n",
              "    </tr>\n",
              "    <tr>\n",
              "      <th>20177</th>\n",
              "      <td>96</td>\n",
              "    </tr>\n",
              "    <tr>\n",
              "      <th>20178</th>\n",
              "      <td>128</td>\n",
              "    </tr>\n",
              "    <tr>\n",
              "      <th>20179</th>\n",
              "      <td>77</td>\n",
              "    </tr>\n",
              "  </tbody>\n",
              "</table>\n",
              "<p>115 rows × 1 columns</p>\n",
              "</div>"
            ],
            "text/plain": [
              "        IsCanceled\n",
              "YYYYWW            \n",
              "201527          41\n",
              "201528          48\n",
              "201529          87\n",
              "201530          74\n",
              "201531         101\n",
              "...            ...\n",
              "20175           51\n",
              "20176           91\n",
              "20177           96\n",
              "20178          128\n",
              "20179           77\n",
              "\n",
              "[115 rows x 1 columns]"
            ]
          },
          "metadata": {
            "tags": []
          },
          "execution_count": 39
        }
      ]
    }
  ]
}