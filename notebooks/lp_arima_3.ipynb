{
  "nbformat": 4,
  "nbformat_minor": 0,
  "metadata": {
    "colab": {
      "name": "lp_arima_3.ipynb",
      "provenance": [],
      "collapsed_sections": []
    },
    "kernelspec": {
      "name": "python3",
      "display_name": "Python 3"
    }
  },
  "cells": [
    {
      "cell_type": "markdown",
      "metadata": {
        "id": "yBawZj05dfgc"
      },
      "source": [
        "<H1>Conversations with Austin</H1>\n",
        "<h2>Ad-hoc Template\n",
        "<p>\n",
        "<p>\n",
        "\n",
        "Wait ... who is Austin, you ask? Austin the Apex Duck is my [Rubber Duck Debug buddy](https:en.wikipedia.org/wiki/Rubber_duck_debugging). Usually a pretty quiet type of guy, but I sense hidden depths of knowledge. Our chats usually start with me staring at something for a long time, then asking a question something like: \"Hey Austin, what do you know about Kappa?\". His usual response is: \"Kappa? Tell me more, please\". This usually starts a back and forth dialogue where he eggs (no pun intended!) me on to explain more. He's all about putting things in writing, which is why I'm sitting here taking notes which I'm cataloguing in a series called \"Chats with Austin\".\n",
        "\n",
        "Salil Athalye\n",
        "www.oratorvert.com\n"
      ]
    },
    {
      "cell_type": "markdown",
      "metadata": {
        "id": "qSgbkmQVfe7q"
      },
      "source": [
        "# Configure Environment and Install Packages\n"
      ]
    },
    {
      "cell_type": "code",
      "metadata": {
        "id": "YlZ4vhyA90EI",
        "colab": {
          "base_uri": "https://localhost:8080/"
        },
        "outputId": "3d1d16b3-1c64-4d75-8af8-a6f22be60ac7"
      },
      "source": [
        "!pip install pmdarima"
      ],
      "execution_count": 1,
      "outputs": [
        {
          "output_type": "stream",
          "text": [
            "Requirement already satisfied: pmdarima in /usr/local/lib/python3.7/dist-packages (1.8.2)\n",
            "Requirement already satisfied: scikit-learn>=0.22 in /usr/local/lib/python3.7/dist-packages (from pmdarima) (0.22.2.post1)\n",
            "Requirement already satisfied: scipy>=1.3.2 in /usr/local/lib/python3.7/dist-packages (from pmdarima) (1.4.1)\n",
            "Requirement already satisfied: urllib3 in /usr/local/lib/python3.7/dist-packages (from pmdarima) (1.24.3)\n",
            "Requirement already satisfied: statsmodels!=0.12.0,>=0.11 in /usr/local/lib/python3.7/dist-packages (from pmdarima) (0.12.2)\n",
            "Requirement already satisfied: joblib>=0.11 in /usr/local/lib/python3.7/dist-packages (from pmdarima) (1.0.1)\n",
            "Requirement already satisfied: pandas>=0.19 in /usr/local/lib/python3.7/dist-packages (from pmdarima) (1.1.5)\n",
            "Requirement already satisfied: Cython!=0.29.18,>=0.29 in /usr/local/lib/python3.7/dist-packages (from pmdarima) (0.29.23)\n",
            "Requirement already satisfied: setuptools!=50.0.0,>=38.6.0 in /usr/local/lib/python3.7/dist-packages (from pmdarima) (57.2.0)\n",
            "Requirement already satisfied: numpy~=1.19.0 in /usr/local/lib/python3.7/dist-packages (from pmdarima) (1.19.5)\n",
            "Requirement already satisfied: python-dateutil>=2.7.3 in /usr/local/lib/python3.7/dist-packages (from pandas>=0.19->pmdarima) (2.8.1)\n",
            "Requirement already satisfied: pytz>=2017.2 in /usr/local/lib/python3.7/dist-packages (from pandas>=0.19->pmdarima) (2018.9)\n",
            "Requirement already satisfied: six>=1.5 in /usr/local/lib/python3.7/dist-packages (from python-dateutil>=2.7.3->pandas>=0.19->pmdarima) (1.15.0)\n",
            "Requirement already satisfied: patsy>=0.5 in /usr/local/lib/python3.7/dist-packages (from statsmodels!=0.12.0,>=0.11->pmdarima) (0.5.1)\n"
          ],
          "name": "stdout"
        }
      ]
    },
    {
      "cell_type": "markdown",
      "metadata": {
        "id": "4u7RACdYeM9M"
      },
      "source": [
        "# Import Libraries\n"
      ]
    },
    {
      "cell_type": "code",
      "metadata": {
        "id": "IRfsBMYcdcNM"
      },
      "source": [
        "from datetime import datetime\n",
        "from datetime import timezone\n",
        "import pandas as pd\n",
        "import numpy as np\n",
        "import matplotlib.pyplot as plt\n",
        "import seaborn as sns\n",
        "import json\n",
        "from google.colab import files\n",
        "\n"
      ],
      "execution_count": 2,
      "outputs": []
    },
    {
      "cell_type": "markdown",
      "metadata": {
        "id": "jYAa-SVnf6uY"
      },
      "source": [
        "# Set Experiment Parameters\n"
      ]
    },
    {
      "cell_type": "code",
      "metadata": {
        "id": "uscaSXq6f5fp"
      },
      "source": [
        "EXPERIMENT_NAME = 'lp_arima_1'\n",
        "SESSION_ID = 3435\n",
        "DATA_SOURCE = \"https://lp-prod-resources.s3.amazonaws.com/250/43958/2021-02-04-19-15-15/H1.csv\"\n",
        "TARGET_COL = 'IsCanceled'\n",
        "DOWNLOAD_ZIPFILE = False"
      ],
      "execution_count": 3,
      "outputs": []
    },
    {
      "cell_type": "code",
      "metadata": {
        "id": "eWLWtAeaZCT9"
      },
      "source": [
        "\n",
        "\n",
        "dt = datetime.now()\n",
        "dt.replace(tzinfo=timezone.utc)\n",
        "utc_timestamp = dt.replace(tzinfo=timezone.utc).isoformat(timespec='seconds')\n",
        "# Replace ':' and '-' and retain up to seconds\n",
        "UTC_TIMESTAMP = utc_timestamp.replace(':','').replace('-',\"\")[:15]\n"
      ],
      "execution_count": 4,
      "outputs": []
    },
    {
      "cell_type": "markdown",
      "metadata": {
        "id": "7m7jCFpbeReL"
      },
      "source": [
        "# Load the data\n"
      ]
    },
    {
      "cell_type": "code",
      "metadata": {
        "id": "SIXawIsXecZ7"
      },
      "source": [
        "\n",
        "dtype_mapping = {}\n",
        "data  = pd.read_csv(DATA_SOURCE, dtype=dtype_mapping)\n",
        "\n",
        "\n",
        "# Save any decisions we took on dtype mapping so we can reuse this in other applications\n",
        "with open('dtype_mapping.json','w') as f:\n",
        "  json.dump(dtype_mapping, f)"
      ],
      "execution_count": 5,
      "outputs": []
    },
    {
      "cell_type": "markdown",
      "metadata": {
        "id": "jEhIQ3UlwHkU"
      },
      "source": [
        "###Data Description\n",
        "\n",
        "\n",
        "<p>\n",
        "Target: IsCanceled, binary\n",
        "\n",
        "\n"
      ]
    },
    {
      "cell_type": "code",
      "metadata": {
        "colab": {
          "base_uri": "https://localhost:8080/"
        },
        "id": "BD3NgqVgaMPX",
        "outputId": "912ad1f7-9ca0-4fb7-a4cf-dfde38110670"
      },
      "source": [
        "data.shape"
      ],
      "execution_count": 6,
      "outputs": [
        {
          "output_type": "execute_result",
          "data": {
            "text/plain": [
              "(40060, 31)"
            ]
          },
          "metadata": {
            "tags": []
          },
          "execution_count": 6
        }
      ]
    },
    {
      "cell_type": "code",
      "metadata": {
        "colab": {
          "base_uri": "https://localhost:8080/",
          "height": 224
        },
        "id": "A0ufb-GrvedU",
        "outputId": "baeeb9ce-881f-47d6-e53f-c21bdd3c6503"
      },
      "source": [
        "data.head()"
      ],
      "execution_count": 7,
      "outputs": [
        {
          "output_type": "execute_result",
          "data": {
            "text/html": [
              "<div>\n",
              "<style scoped>\n",
              "    .dataframe tbody tr th:only-of-type {\n",
              "        vertical-align: middle;\n",
              "    }\n",
              "\n",
              "    .dataframe tbody tr th {\n",
              "        vertical-align: top;\n",
              "    }\n",
              "\n",
              "    .dataframe thead th {\n",
              "        text-align: right;\n",
              "    }\n",
              "</style>\n",
              "<table border=\"1\" class=\"dataframe\">\n",
              "  <thead>\n",
              "    <tr style=\"text-align: right;\">\n",
              "      <th></th>\n",
              "      <th>IsCanceled</th>\n",
              "      <th>LeadTime</th>\n",
              "      <th>ArrivalDateYear</th>\n",
              "      <th>ArrivalDateMonth</th>\n",
              "      <th>ArrivalDateWeekNumber</th>\n",
              "      <th>ArrivalDateDayOfMonth</th>\n",
              "      <th>StaysInWeekendNights</th>\n",
              "      <th>StaysInWeekNights</th>\n",
              "      <th>Adults</th>\n",
              "      <th>Children</th>\n",
              "      <th>Babies</th>\n",
              "      <th>Meal</th>\n",
              "      <th>Country</th>\n",
              "      <th>MarketSegment</th>\n",
              "      <th>DistributionChannel</th>\n",
              "      <th>IsRepeatedGuest</th>\n",
              "      <th>PreviousCancellations</th>\n",
              "      <th>PreviousBookingsNotCanceled</th>\n",
              "      <th>ReservedRoomType</th>\n",
              "      <th>AssignedRoomType</th>\n",
              "      <th>BookingChanges</th>\n",
              "      <th>DepositType</th>\n",
              "      <th>Agent</th>\n",
              "      <th>Company</th>\n",
              "      <th>DaysInWaitingList</th>\n",
              "      <th>CustomerType</th>\n",
              "      <th>ADR</th>\n",
              "      <th>RequiredCarParkingSpaces</th>\n",
              "      <th>TotalOfSpecialRequests</th>\n",
              "      <th>ReservationStatus</th>\n",
              "      <th>ReservationStatusDate</th>\n",
              "    </tr>\n",
              "  </thead>\n",
              "  <tbody>\n",
              "    <tr>\n",
              "      <th>0</th>\n",
              "      <td>0</td>\n",
              "      <td>342</td>\n",
              "      <td>2015</td>\n",
              "      <td>July</td>\n",
              "      <td>27</td>\n",
              "      <td>1</td>\n",
              "      <td>0</td>\n",
              "      <td>0</td>\n",
              "      <td>2</td>\n",
              "      <td>0</td>\n",
              "      <td>0</td>\n",
              "      <td>BB</td>\n",
              "      <td>PRT</td>\n",
              "      <td>Direct</td>\n",
              "      <td>Direct</td>\n",
              "      <td>0</td>\n",
              "      <td>0</td>\n",
              "      <td>0</td>\n",
              "      <td>C</td>\n",
              "      <td>C</td>\n",
              "      <td>3</td>\n",
              "      <td>No Deposit</td>\n",
              "      <td>NULL</td>\n",
              "      <td>NULL</td>\n",
              "      <td>0</td>\n",
              "      <td>Transient</td>\n",
              "      <td>0.0</td>\n",
              "      <td>0</td>\n",
              "      <td>0</td>\n",
              "      <td>Check-Out</td>\n",
              "      <td>2015-07-01</td>\n",
              "    </tr>\n",
              "    <tr>\n",
              "      <th>1</th>\n",
              "      <td>0</td>\n",
              "      <td>737</td>\n",
              "      <td>2015</td>\n",
              "      <td>July</td>\n",
              "      <td>27</td>\n",
              "      <td>1</td>\n",
              "      <td>0</td>\n",
              "      <td>0</td>\n",
              "      <td>2</td>\n",
              "      <td>0</td>\n",
              "      <td>0</td>\n",
              "      <td>BB</td>\n",
              "      <td>PRT</td>\n",
              "      <td>Direct</td>\n",
              "      <td>Direct</td>\n",
              "      <td>0</td>\n",
              "      <td>0</td>\n",
              "      <td>0</td>\n",
              "      <td>C</td>\n",
              "      <td>C</td>\n",
              "      <td>4</td>\n",
              "      <td>No Deposit</td>\n",
              "      <td>NULL</td>\n",
              "      <td>NULL</td>\n",
              "      <td>0</td>\n",
              "      <td>Transient</td>\n",
              "      <td>0.0</td>\n",
              "      <td>0</td>\n",
              "      <td>0</td>\n",
              "      <td>Check-Out</td>\n",
              "      <td>2015-07-01</td>\n",
              "    </tr>\n",
              "    <tr>\n",
              "      <th>2</th>\n",
              "      <td>0</td>\n",
              "      <td>7</td>\n",
              "      <td>2015</td>\n",
              "      <td>July</td>\n",
              "      <td>27</td>\n",
              "      <td>1</td>\n",
              "      <td>0</td>\n",
              "      <td>1</td>\n",
              "      <td>1</td>\n",
              "      <td>0</td>\n",
              "      <td>0</td>\n",
              "      <td>BB</td>\n",
              "      <td>GBR</td>\n",
              "      <td>Direct</td>\n",
              "      <td>Direct</td>\n",
              "      <td>0</td>\n",
              "      <td>0</td>\n",
              "      <td>0</td>\n",
              "      <td>A</td>\n",
              "      <td>C</td>\n",
              "      <td>0</td>\n",
              "      <td>No Deposit</td>\n",
              "      <td>NULL</td>\n",
              "      <td>NULL</td>\n",
              "      <td>0</td>\n",
              "      <td>Transient</td>\n",
              "      <td>75.0</td>\n",
              "      <td>0</td>\n",
              "      <td>0</td>\n",
              "      <td>Check-Out</td>\n",
              "      <td>2015-07-02</td>\n",
              "    </tr>\n",
              "    <tr>\n",
              "      <th>3</th>\n",
              "      <td>0</td>\n",
              "      <td>13</td>\n",
              "      <td>2015</td>\n",
              "      <td>July</td>\n",
              "      <td>27</td>\n",
              "      <td>1</td>\n",
              "      <td>0</td>\n",
              "      <td>1</td>\n",
              "      <td>1</td>\n",
              "      <td>0</td>\n",
              "      <td>0</td>\n",
              "      <td>BB</td>\n",
              "      <td>GBR</td>\n",
              "      <td>Corporate</td>\n",
              "      <td>Corporate</td>\n",
              "      <td>0</td>\n",
              "      <td>0</td>\n",
              "      <td>0</td>\n",
              "      <td>A</td>\n",
              "      <td>A</td>\n",
              "      <td>0</td>\n",
              "      <td>No Deposit</td>\n",
              "      <td>304</td>\n",
              "      <td>NULL</td>\n",
              "      <td>0</td>\n",
              "      <td>Transient</td>\n",
              "      <td>75.0</td>\n",
              "      <td>0</td>\n",
              "      <td>0</td>\n",
              "      <td>Check-Out</td>\n",
              "      <td>2015-07-02</td>\n",
              "    </tr>\n",
              "    <tr>\n",
              "      <th>4</th>\n",
              "      <td>0</td>\n",
              "      <td>14</td>\n",
              "      <td>2015</td>\n",
              "      <td>July</td>\n",
              "      <td>27</td>\n",
              "      <td>1</td>\n",
              "      <td>0</td>\n",
              "      <td>2</td>\n",
              "      <td>2</td>\n",
              "      <td>0</td>\n",
              "      <td>0</td>\n",
              "      <td>BB</td>\n",
              "      <td>GBR</td>\n",
              "      <td>Online TA</td>\n",
              "      <td>TA/TO</td>\n",
              "      <td>0</td>\n",
              "      <td>0</td>\n",
              "      <td>0</td>\n",
              "      <td>A</td>\n",
              "      <td>A</td>\n",
              "      <td>0</td>\n",
              "      <td>No Deposit</td>\n",
              "      <td>240</td>\n",
              "      <td>NULL</td>\n",
              "      <td>0</td>\n",
              "      <td>Transient</td>\n",
              "      <td>98.0</td>\n",
              "      <td>0</td>\n",
              "      <td>1</td>\n",
              "      <td>Check-Out</td>\n",
              "      <td>2015-07-03</td>\n",
              "    </tr>\n",
              "  </tbody>\n",
              "</table>\n",
              "</div>"
            ],
            "text/plain": [
              "   IsCanceled  LeadTime  ...  ReservationStatus ReservationStatusDate\n",
              "0           0       342  ...          Check-Out            2015-07-01\n",
              "1           0       737  ...          Check-Out            2015-07-01\n",
              "2           0         7  ...          Check-Out            2015-07-02\n",
              "3           0        13  ...          Check-Out            2015-07-02\n",
              "4           0        14  ...          Check-Out            2015-07-03\n",
              "\n",
              "[5 rows x 31 columns]"
            ]
          },
          "metadata": {
            "tags": []
          },
          "execution_count": 7
        }
      ]
    },
    {
      "cell_type": "code",
      "metadata": {
        "colab": {
          "base_uri": "https://localhost:8080/"
        },
        "id": "-dzG7V3AvY45",
        "outputId": "dc7de1fc-8b62-4d96-9588-d7ae8d16283d"
      },
      "source": [
        "data.info()"
      ],
      "execution_count": 8,
      "outputs": [
        {
          "output_type": "stream",
          "text": [
            "<class 'pandas.core.frame.DataFrame'>\n",
            "RangeIndex: 40060 entries, 0 to 40059\n",
            "Data columns (total 31 columns):\n",
            " #   Column                       Non-Null Count  Dtype  \n",
            "---  ------                       --------------  -----  \n",
            " 0   IsCanceled                   40060 non-null  int64  \n",
            " 1   LeadTime                     40060 non-null  int64  \n",
            " 2   ArrivalDateYear              40060 non-null  int64  \n",
            " 3   ArrivalDateMonth             40060 non-null  object \n",
            " 4   ArrivalDateWeekNumber        40060 non-null  int64  \n",
            " 5   ArrivalDateDayOfMonth        40060 non-null  int64  \n",
            " 6   StaysInWeekendNights         40060 non-null  int64  \n",
            " 7   StaysInWeekNights            40060 non-null  int64  \n",
            " 8   Adults                       40060 non-null  int64  \n",
            " 9   Children                     40060 non-null  int64  \n",
            " 10  Babies                       40060 non-null  int64  \n",
            " 11  Meal                         40060 non-null  object \n",
            " 12  Country                      39596 non-null  object \n",
            " 13  MarketSegment                40060 non-null  object \n",
            " 14  DistributionChannel          40060 non-null  object \n",
            " 15  IsRepeatedGuest              40060 non-null  int64  \n",
            " 16  PreviousCancellations        40060 non-null  int64  \n",
            " 17  PreviousBookingsNotCanceled  40060 non-null  int64  \n",
            " 18  ReservedRoomType             40060 non-null  object \n",
            " 19  AssignedRoomType             40060 non-null  object \n",
            " 20  BookingChanges               40060 non-null  int64  \n",
            " 21  DepositType                  40060 non-null  object \n",
            " 22  Agent                        40060 non-null  object \n",
            " 23  Company                      40060 non-null  object \n",
            " 24  DaysInWaitingList            40060 non-null  int64  \n",
            " 25  CustomerType                 40060 non-null  object \n",
            " 26  ADR                          40060 non-null  float64\n",
            " 27  RequiredCarParkingSpaces     40060 non-null  int64  \n",
            " 28  TotalOfSpecialRequests       40060 non-null  int64  \n",
            " 29  ReservationStatus            40060 non-null  object \n",
            " 30  ReservationStatusDate        40060 non-null  object \n",
            "dtypes: float64(1), int64(17), object(13)\n",
            "memory usage: 9.5+ MB\n"
          ],
          "name": "stdout"
        }
      ]
    },
    {
      "cell_type": "code",
      "metadata": {
        "colab": {
          "base_uri": "https://localhost:8080/"
        },
        "id": "O9_0WL6Xx3vd",
        "outputId": "ee210626-61b6-4686-cb79-991db62ad829"
      },
      "source": [
        "data.isna().sum()"
      ],
      "execution_count": 9,
      "outputs": [
        {
          "output_type": "execute_result",
          "data": {
            "text/plain": [
              "IsCanceled                       0\n",
              "LeadTime                         0\n",
              "ArrivalDateYear                  0\n",
              "ArrivalDateMonth                 0\n",
              "ArrivalDateWeekNumber            0\n",
              "ArrivalDateDayOfMonth            0\n",
              "StaysInWeekendNights             0\n",
              "StaysInWeekNights                0\n",
              "Adults                           0\n",
              "Children                         0\n",
              "Babies                           0\n",
              "Meal                             0\n",
              "Country                        464\n",
              "MarketSegment                    0\n",
              "DistributionChannel              0\n",
              "IsRepeatedGuest                  0\n",
              "PreviousCancellations            0\n",
              "PreviousBookingsNotCanceled      0\n",
              "ReservedRoomType                 0\n",
              "AssignedRoomType                 0\n",
              "BookingChanges                   0\n",
              "DepositType                      0\n",
              "Agent                            0\n",
              "Company                          0\n",
              "DaysInWaitingList                0\n",
              "CustomerType                     0\n",
              "ADR                              0\n",
              "RequiredCarParkingSpaces         0\n",
              "TotalOfSpecialRequests           0\n",
              "ReservationStatus                0\n",
              "ReservationStatusDate            0\n",
              "dtype: int64"
            ]
          },
          "metadata": {
            "tags": []
          },
          "execution_count": 9
        }
      ]
    },
    {
      "cell_type": "code",
      "metadata": {
        "colab": {
          "base_uri": "https://localhost:8080/",
          "height": 317
        },
        "id": "fFMYQy_qvcFG",
        "outputId": "63e110b9-dabf-4e1d-c262-2a450f1f8807"
      },
      "source": [
        "data.describe()"
      ],
      "execution_count": 10,
      "outputs": [
        {
          "output_type": "execute_result",
          "data": {
            "text/html": [
              "<div>\n",
              "<style scoped>\n",
              "    .dataframe tbody tr th:only-of-type {\n",
              "        vertical-align: middle;\n",
              "    }\n",
              "\n",
              "    .dataframe tbody tr th {\n",
              "        vertical-align: top;\n",
              "    }\n",
              "\n",
              "    .dataframe thead th {\n",
              "        text-align: right;\n",
              "    }\n",
              "</style>\n",
              "<table border=\"1\" class=\"dataframe\">\n",
              "  <thead>\n",
              "    <tr style=\"text-align: right;\">\n",
              "      <th></th>\n",
              "      <th>IsCanceled</th>\n",
              "      <th>LeadTime</th>\n",
              "      <th>ArrivalDateYear</th>\n",
              "      <th>ArrivalDateWeekNumber</th>\n",
              "      <th>ArrivalDateDayOfMonth</th>\n",
              "      <th>StaysInWeekendNights</th>\n",
              "      <th>StaysInWeekNights</th>\n",
              "      <th>Adults</th>\n",
              "      <th>Children</th>\n",
              "      <th>Babies</th>\n",
              "      <th>IsRepeatedGuest</th>\n",
              "      <th>PreviousCancellations</th>\n",
              "      <th>PreviousBookingsNotCanceled</th>\n",
              "      <th>BookingChanges</th>\n",
              "      <th>DaysInWaitingList</th>\n",
              "      <th>ADR</th>\n",
              "      <th>RequiredCarParkingSpaces</th>\n",
              "      <th>TotalOfSpecialRequests</th>\n",
              "    </tr>\n",
              "  </thead>\n",
              "  <tbody>\n",
              "    <tr>\n",
              "      <th>count</th>\n",
              "      <td>40060.000000</td>\n",
              "      <td>40060.000000</td>\n",
              "      <td>40060.000000</td>\n",
              "      <td>40060.000000</td>\n",
              "      <td>40060.000000</td>\n",
              "      <td>40060.000000</td>\n",
              "      <td>40060.000000</td>\n",
              "      <td>40060.000000</td>\n",
              "      <td>40060.000000</td>\n",
              "      <td>40060.000000</td>\n",
              "      <td>40060.000000</td>\n",
              "      <td>40060.000000</td>\n",
              "      <td>40060.000000</td>\n",
              "      <td>40060.000000</td>\n",
              "      <td>40060.000000</td>\n",
              "      <td>40060.000000</td>\n",
              "      <td>40060.000000</td>\n",
              "      <td>40060.00000</td>\n",
              "    </tr>\n",
              "    <tr>\n",
              "      <th>mean</th>\n",
              "      <td>0.277634</td>\n",
              "      <td>92.675686</td>\n",
              "      <td>2016.121443</td>\n",
              "      <td>27.140864</td>\n",
              "      <td>15.821243</td>\n",
              "      <td>1.189815</td>\n",
              "      <td>3.128732</td>\n",
              "      <td>1.867149</td>\n",
              "      <td>0.128682</td>\n",
              "      <td>0.013904</td>\n",
              "      <td>0.044383</td>\n",
              "      <td>0.101722</td>\n",
              "      <td>0.146455</td>\n",
              "      <td>0.287968</td>\n",
              "      <td>0.527758</td>\n",
              "      <td>94.952930</td>\n",
              "      <td>0.138068</td>\n",
              "      <td>0.61977</td>\n",
              "    </tr>\n",
              "    <tr>\n",
              "      <th>std</th>\n",
              "      <td>0.447837</td>\n",
              "      <td>97.285315</td>\n",
              "      <td>0.722347</td>\n",
              "      <td>14.005441</td>\n",
              "      <td>8.883708</td>\n",
              "      <td>1.147812</td>\n",
              "      <td>2.461329</td>\n",
              "      <td>0.697285</td>\n",
              "      <td>0.445195</td>\n",
              "      <td>0.118998</td>\n",
              "      <td>0.205948</td>\n",
              "      <td>1.335115</td>\n",
              "      <td>1.001955</td>\n",
              "      <td>0.726548</td>\n",
              "      <td>7.428580</td>\n",
              "      <td>61.442418</td>\n",
              "      <td>0.351001</td>\n",
              "      <td>0.81393</td>\n",
              "    </tr>\n",
              "    <tr>\n",
              "      <th>min</th>\n",
              "      <td>0.000000</td>\n",
              "      <td>0.000000</td>\n",
              "      <td>2015.000000</td>\n",
              "      <td>1.000000</td>\n",
              "      <td>1.000000</td>\n",
              "      <td>0.000000</td>\n",
              "      <td>0.000000</td>\n",
              "      <td>0.000000</td>\n",
              "      <td>0.000000</td>\n",
              "      <td>0.000000</td>\n",
              "      <td>0.000000</td>\n",
              "      <td>0.000000</td>\n",
              "      <td>0.000000</td>\n",
              "      <td>0.000000</td>\n",
              "      <td>0.000000</td>\n",
              "      <td>-6.380000</td>\n",
              "      <td>0.000000</td>\n",
              "      <td>0.00000</td>\n",
              "    </tr>\n",
              "    <tr>\n",
              "      <th>25%</th>\n",
              "      <td>0.000000</td>\n",
              "      <td>10.000000</td>\n",
              "      <td>2016.000000</td>\n",
              "      <td>16.000000</td>\n",
              "      <td>8.000000</td>\n",
              "      <td>0.000000</td>\n",
              "      <td>1.000000</td>\n",
              "      <td>2.000000</td>\n",
              "      <td>0.000000</td>\n",
              "      <td>0.000000</td>\n",
              "      <td>0.000000</td>\n",
              "      <td>0.000000</td>\n",
              "      <td>0.000000</td>\n",
              "      <td>0.000000</td>\n",
              "      <td>0.000000</td>\n",
              "      <td>50.000000</td>\n",
              "      <td>0.000000</td>\n",
              "      <td>0.00000</td>\n",
              "    </tr>\n",
              "    <tr>\n",
              "      <th>50%</th>\n",
              "      <td>0.000000</td>\n",
              "      <td>57.000000</td>\n",
              "      <td>2016.000000</td>\n",
              "      <td>28.000000</td>\n",
              "      <td>16.000000</td>\n",
              "      <td>1.000000</td>\n",
              "      <td>3.000000</td>\n",
              "      <td>2.000000</td>\n",
              "      <td>0.000000</td>\n",
              "      <td>0.000000</td>\n",
              "      <td>0.000000</td>\n",
              "      <td>0.000000</td>\n",
              "      <td>0.000000</td>\n",
              "      <td>0.000000</td>\n",
              "      <td>0.000000</td>\n",
              "      <td>75.000000</td>\n",
              "      <td>0.000000</td>\n",
              "      <td>0.00000</td>\n",
              "    </tr>\n",
              "    <tr>\n",
              "      <th>75%</th>\n",
              "      <td>1.000000</td>\n",
              "      <td>155.000000</td>\n",
              "      <td>2017.000000</td>\n",
              "      <td>38.000000</td>\n",
              "      <td>24.000000</td>\n",
              "      <td>2.000000</td>\n",
              "      <td>5.000000</td>\n",
              "      <td>2.000000</td>\n",
              "      <td>0.000000</td>\n",
              "      <td>0.000000</td>\n",
              "      <td>0.000000</td>\n",
              "      <td>0.000000</td>\n",
              "      <td>0.000000</td>\n",
              "      <td>0.000000</td>\n",
              "      <td>0.000000</td>\n",
              "      <td>125.000000</td>\n",
              "      <td>0.000000</td>\n",
              "      <td>1.00000</td>\n",
              "    </tr>\n",
              "    <tr>\n",
              "      <th>max</th>\n",
              "      <td>1.000000</td>\n",
              "      <td>737.000000</td>\n",
              "      <td>2017.000000</td>\n",
              "      <td>53.000000</td>\n",
              "      <td>31.000000</td>\n",
              "      <td>19.000000</td>\n",
              "      <td>50.000000</td>\n",
              "      <td>55.000000</td>\n",
              "      <td>10.000000</td>\n",
              "      <td>2.000000</td>\n",
              "      <td>1.000000</td>\n",
              "      <td>26.000000</td>\n",
              "      <td>30.000000</td>\n",
              "      <td>17.000000</td>\n",
              "      <td>185.000000</td>\n",
              "      <td>508.000000</td>\n",
              "      <td>8.000000</td>\n",
              "      <td>5.00000</td>\n",
              "    </tr>\n",
              "  </tbody>\n",
              "</table>\n",
              "</div>"
            ],
            "text/plain": [
              "         IsCanceled  ...  TotalOfSpecialRequests\n",
              "count  40060.000000  ...             40060.00000\n",
              "mean       0.277634  ...                 0.61977\n",
              "std        0.447837  ...                 0.81393\n",
              "min        0.000000  ...                 0.00000\n",
              "25%        0.000000  ...                 0.00000\n",
              "50%        0.000000  ...                 0.00000\n",
              "75%        1.000000  ...                 1.00000\n",
              "max        1.000000  ...                 5.00000\n",
              "\n",
              "[8 rows x 18 columns]"
            ]
          },
          "metadata": {
            "tags": []
          },
          "execution_count": 10
        }
      ]
    },
    {
      "cell_type": "code",
      "metadata": {
        "colab": {
          "base_uri": "https://localhost:8080/"
        },
        "id": "J9AA7pevvtGA",
        "outputId": "91e496d3-13da-4b68-82e9-24a1e3403091"
      },
      "source": [
        "data[TARGET_COL].value_counts()"
      ],
      "execution_count": 11,
      "outputs": [
        {
          "output_type": "execute_result",
          "data": {
            "text/plain": [
              "0    28938\n",
              "1    11122\n",
              "Name: IsCanceled, dtype: int64"
            ]
          },
          "metadata": {
            "tags": []
          },
          "execution_count": 11
        }
      ]
    },
    {
      "cell_type": "markdown",
      "metadata": {
        "id": "LPg8b8OKazuD"
      },
      "source": [
        "# Perform Basic Exploratory Data Analysis\n"
      ]
    },
    {
      "cell_type": "code",
      "metadata": {
        "id": "1WEo7HGLMXUZ"
      },
      "source": [
        "data['ArrivalDateWW'] = data['ArrivalDateWeekNumber'].map(str)\n",
        "data['ArrivalDateWW'] = data['ArrivalDateWW'].str.pad(width=2, side='left', fillchar='0')\n",
        "data['YYYYWW'] = data['ArrivalDateYear'].map(str) + data['ArrivalDateWW']"
      ],
      "execution_count": 12,
      "outputs": []
    },
    {
      "cell_type": "code",
      "metadata": {
        "id": "V07-BYFlOO0f"
      },
      "source": [
        "weekly_cancellations = data[['YYYYWW','IsCanceled']] \\\n",
        "  .groupby(['YYYYWW']) \\\n",
        "  .agg({'IsCanceled':sum})"
      ],
      "execution_count": 13,
      "outputs": []
    },
    {
      "cell_type": "code",
      "metadata": {
        "colab": {
          "base_uri": "https://localhost:8080/",
          "height": 450
        },
        "id": "4wlWneveOgTU",
        "outputId": "fabfec0c-29cd-45f2-9df2-1f27aac5abde"
      },
      "source": [
        "weekly_cancellations"
      ],
      "execution_count": 14,
      "outputs": [
        {
          "output_type": "execute_result",
          "data": {
            "text/html": [
              "<div>\n",
              "<style scoped>\n",
              "    .dataframe tbody tr th:only-of-type {\n",
              "        vertical-align: middle;\n",
              "    }\n",
              "\n",
              "    .dataframe tbody tr th {\n",
              "        vertical-align: top;\n",
              "    }\n",
              "\n",
              "    .dataframe thead th {\n",
              "        text-align: right;\n",
              "    }\n",
              "</style>\n",
              "<table border=\"1\" class=\"dataframe\">\n",
              "  <thead>\n",
              "    <tr style=\"text-align: right;\">\n",
              "      <th></th>\n",
              "      <th>IsCanceled</th>\n",
              "    </tr>\n",
              "    <tr>\n",
              "      <th>YYYYWW</th>\n",
              "      <th></th>\n",
              "    </tr>\n",
              "  </thead>\n",
              "  <tbody>\n",
              "    <tr>\n",
              "      <th>201527</th>\n",
              "      <td>41</td>\n",
              "    </tr>\n",
              "    <tr>\n",
              "      <th>201528</th>\n",
              "      <td>48</td>\n",
              "    </tr>\n",
              "    <tr>\n",
              "      <th>201529</th>\n",
              "      <td>87</td>\n",
              "    </tr>\n",
              "    <tr>\n",
              "      <th>201530</th>\n",
              "      <td>74</td>\n",
              "    </tr>\n",
              "    <tr>\n",
              "      <th>201531</th>\n",
              "      <td>101</td>\n",
              "    </tr>\n",
              "    <tr>\n",
              "      <th>...</th>\n",
              "      <td>...</td>\n",
              "    </tr>\n",
              "    <tr>\n",
              "      <th>201731</th>\n",
              "      <td>173</td>\n",
              "    </tr>\n",
              "    <tr>\n",
              "      <th>201732</th>\n",
              "      <td>140</td>\n",
              "    </tr>\n",
              "    <tr>\n",
              "      <th>201733</th>\n",
              "      <td>182</td>\n",
              "    </tr>\n",
              "    <tr>\n",
              "      <th>201734</th>\n",
              "      <td>143</td>\n",
              "    </tr>\n",
              "    <tr>\n",
              "      <th>201735</th>\n",
              "      <td>100</td>\n",
              "    </tr>\n",
              "  </tbody>\n",
              "</table>\n",
              "<p>115 rows × 1 columns</p>\n",
              "</div>"
            ],
            "text/plain": [
              "        IsCanceled\n",
              "YYYYWW            \n",
              "201527          41\n",
              "201528          48\n",
              "201529          87\n",
              "201530          74\n",
              "201531         101\n",
              "...            ...\n",
              "201731         173\n",
              "201732         140\n",
              "201733         182\n",
              "201734         143\n",
              "201735         100\n",
              "\n",
              "[115 rows x 1 columns]"
            ]
          },
          "metadata": {
            "tags": []
          },
          "execution_count": 14
        }
      ]
    },
    {
      "cell_type": "code",
      "metadata": {
        "colab": {
          "base_uri": "https://localhost:8080/",
          "height": 296
        },
        "id": "CUC9N9zBZIEZ",
        "outputId": "91d2c262-bbdf-413a-d17d-3963fa17cd3c"
      },
      "source": [
        "weekly_cancellations.plot()"
      ],
      "execution_count": 15,
      "outputs": [
        {
          "output_type": "execute_result",
          "data": {
            "text/plain": [
              "<matplotlib.axes._subplots.AxesSubplot at 0x7f2c2fec9c10>"
            ]
          },
          "metadata": {
            "tags": []
          },
          "execution_count": 15
        },
        {
          "output_type": "display_data",
          "data": {
            "image/png": "[encoded data removed]",
            "text/plain": [
              "<Figure size 432x288 with 1 Axes>"
            ]
          },
          "metadata": {
            "tags": [],
            "needs_background": "light"
          }
        }
      ]
    },
    {
      "cell_type": "code",
      "metadata": {
        "id": "03frpJPRZO5G"
      },
      "source": [
        "from statsmodels.tsa.seasonal import seasonal_decompose\n",
        "from statsmodels.graphics.tsaplots import plot_acf\n",
        "from statsmodels.graphics.tsaplots import plot_pacf\n",
        "\n",
        "\n"
      ],
      "execution_count": 16,
      "outputs": []
    },
    {
      "cell_type": "code",
      "metadata": {
        "id": "u_svsL8VZwEL"
      },
      "source": [
        "ts = weekly_cancellations['IsCanceled']"
      ],
      "execution_count": 17,
      "outputs": []
    },
    {
      "cell_type": "code",
      "metadata": {
        "colab": {
          "base_uri": "https://localhost:8080/"
        },
        "id": "6aXPuC9shO4U",
        "outputId": "0936f857-5f21-4260-d7de-f94eaed74fb2"
      },
      "source": [
        "type(ts)"
      ],
      "execution_count": 18,
      "outputs": [
        {
          "output_type": "execute_result",
          "data": {
            "text/plain": [
              "pandas.core.series.Series"
            ]
          },
          "metadata": {
            "tags": []
          },
          "execution_count": 18
        }
      ]
    },
    {
      "cell_type": "code",
      "metadata": {
        "colab": {
          "base_uri": "https://localhost:8080/"
        },
        "id": "ChQa9U02aC3F",
        "outputId": "41f9ddbe-2b73-4ad8-84cf-8ddf48c73375"
      },
      "source": [
        "ts"
      ],
      "execution_count": 19,
      "outputs": [
        {
          "output_type": "execute_result",
          "data": {
            "text/plain": [
              "YYYYWW\n",
              "201527     41\n",
              "201528     48\n",
              "201529     87\n",
              "201530     74\n",
              "201531    101\n",
              "         ... \n",
              "201731    173\n",
              "201732    140\n",
              "201733    182\n",
              "201734    143\n",
              "201735    100\n",
              "Name: IsCanceled, Length: 115, dtype: int64"
            ]
          },
          "metadata": {
            "tags": []
          },
          "execution_count": 19
        }
      ]
    },
    {
      "cell_type": "code",
      "metadata": {
        "id": "YipNL33wZfOf",
        "colab": {
          "base_uri": "https://localhost:8080/"
        },
        "outputId": "1db6d7e7-3c64-4ebd-8259-044445b91ee2"
      },
      "source": [
        "decomposition = seasonal_decompose(ts, freq = 52)\n",
        "residual = decomposition.resid\n",
        "trend = decomposition.trend\n",
        "seasonal = decomposition.seasonal"
      ],
      "execution_count": 20,
      "outputs": [
        {
          "output_type": "stream",
          "text": [
            "/usr/local/lib/python3.7/dist-packages/ipykernel_launcher.py:1: FutureWarning: the 'freq'' keyword is deprecated, use 'period' instead\n",
            "  \"\"\"Entry point for launching an IPython kernel.\n"
          ],
          "name": "stderr"
        }
      ]
    },
    {
      "cell_type": "code",
      "metadata": {
        "colab": {
          "base_uri": "https://localhost:8080/",
          "height": 296
        },
        "id": "GBmK3w1mbB2-",
        "outputId": "31313c3d-0cd1-4d57-ef0c-193e4a773cd4"
      },
      "source": [
        "residual.plot()"
      ],
      "execution_count": 21,
      "outputs": [
        {
          "output_type": "execute_result",
          "data": {
            "text/plain": [
              "<matplotlib.axes._subplots.AxesSubplot at 0x7f2c2cf562d0>"
            ]
          },
          "metadata": {
            "tags": []
          },
          "execution_count": 21
        },
        {
          "output_type": "display_data",
          "data": {
            "image/png": "[encoded data removed]",
            "text/plain": [
              "<Figure size 432x288 with 1 Axes>"
            ]
          },
          "metadata": {
            "tags": [],
            "needs_background": "light"
          }
        }
      ]
    },
    {
      "cell_type": "code",
      "metadata": {
        "colab": {
          "base_uri": "https://localhost:8080/",
          "height": 296
        },
        "id": "TUUozDcXbHKF",
        "outputId": "f18f709a-2ccf-4918-8c22-6d52f0b0d589"
      },
      "source": [
        "trend.plot()"
      ],
      "execution_count": 22,
      "outputs": [
        {
          "output_type": "execute_result",
          "data": {
            "text/plain": [
              "<matplotlib.axes._subplots.AxesSubplot at 0x7f2c2cf43390>"
            ]
          },
          "metadata": {
            "tags": []
          },
          "execution_count": 22
        },
        {
          "output_type": "display_data",
          "data": {
            "image/png": "[encoded data removed]",
            "text/plain": [
              "<Figure size 432x288 with 1 Axes>"
            ]
          },
          "metadata": {
            "tags": [],
            "needs_background": "light"
          }
        }
      ]
    },
    {
      "cell_type": "code",
      "metadata": {
        "colab": {
          "base_uri": "https://localhost:8080/",
          "height": 296
        },
        "id": "NwtyzElZbLhv",
        "outputId": "376d3960-e364-442a-dca4-c5e618223bec"
      },
      "source": [
        "seasonal.plot()"
      ],
      "execution_count": 23,
      "outputs": [
        {
          "output_type": "execute_result",
          "data": {
            "text/plain": [
              "<matplotlib.axes._subplots.AxesSubplot at 0x7f2c2cf09310>"
            ]
          },
          "metadata": {
            "tags": []
          },
          "execution_count": 23
        },
        {
          "output_type": "display_data",
          "data": {
            "image/png": "[encoded data removed]",
            "text/plain": [
              "<Figure size 432x288 with 1 Axes>"
            ]
          },
          "metadata": {
            "tags": [],
            "needs_background": "light"
          }
        }
      ]
    },
    {
      "cell_type": "code",
      "metadata": {
        "colab": {
          "base_uri": "https://localhost:8080/",
          "height": 545
        },
        "id": "KTz9p_ZVbfoN",
        "outputId": "9c36e8fa-bedc-4229-c496-b2691534b793"
      },
      "source": [
        "plot_acf(ts, lags=100)"
      ],
      "execution_count": 24,
      "outputs": [
        {
          "output_type": "execute_result",
          "data": {
            "image/png": "[encoded data removed]",
            "text/plain": [
              "<Figure size 432x288 with 1 Axes>"
            ]
          },
          "metadata": {
            "tags": []
          },
          "execution_count": 24
        },
        {
          "output_type": "display_data",
          "data": {
            "image/png": "[encoded data removed]",
            "text/plain": [
              "<Figure size 432x288 with 1 Axes>"
            ]
          },
          "metadata": {
            "tags": [],
            "needs_background": "light"
          }
        }
      ]
    },
    {
      "cell_type": "code",
      "metadata": {
        "colab": {
          "base_uri": "https://localhost:8080/",
          "height": 545
        },
        "id": "EhTm_aLQcsvm",
        "outputId": "cd959d1a-6fab-435f-f1d6-8f5e62e5da3e"
      },
      "source": [
        "plot_pacf(ts, lags=50)"
      ],
      "execution_count": 25,
      "outputs": [
        {
          "output_type": "execute_result",
          "data": {
            "image/png": "[encoded data removed]",
            "text/plain": [
              "<Figure size 432x288 with 1 Axes>"
            ]
          },
          "metadata": {
            "tags": []
          },
          "execution_count": 25
        },
        {
          "output_type": "display_data",
          "data": {
            "image/png": "[encoded data removed]",
            "text/plain": [
              "<Figure size 432x288 with 1 Axes>"
            ]
          },
          "metadata": {
            "tags": [],
            "needs_background": "light"
          }
        }
      ]
    },
    {
      "cell_type": "code",
      "metadata": {
        "id": "lQLtoH0UeC_B"
      },
      "source": [
        ""
      ],
      "execution_count": 25,
      "outputs": []
    },
    {
      "cell_type": "code",
      "metadata": {
        "id": "zXval9Y5eIo-"
      },
      "source": [
        "window = 4\n",
        "ts_sma4 = ts.rolling(window).mean()"
      ],
      "execution_count": 26,
      "outputs": []
    },
    {
      "cell_type": "code",
      "metadata": {
        "colab": {
          "base_uri": "https://localhost:8080/"
        },
        "id": "I-X4GC7LhYup",
        "outputId": "27661c4f-5962-41da-8183-81b3e878699f"
      },
      "source": [
        "type(ts_sma4)"
      ],
      "execution_count": 27,
      "outputs": [
        {
          "output_type": "execute_result",
          "data": {
            "text/plain": [
              "pandas.core.series.Series"
            ]
          },
          "metadata": {
            "tags": []
          },
          "execution_count": 27
        }
      ]
    },
    {
      "cell_type": "code",
      "metadata": {
        "colab": {
          "base_uri": "https://localhost:8080/",
          "height": 296
        },
        "id": "mv0mMjx7fvhW",
        "outputId": "a5a5e6b2-a527-48c5-e4fc-03985b0b21d8"
      },
      "source": [
        "ts_sma4.plot()"
      ],
      "execution_count": 28,
      "outputs": [
        {
          "output_type": "execute_result",
          "data": {
            "text/plain": [
              "<matplotlib.axes._subplots.AxesSubplot at 0x7f2c2454a490>"
            ]
          },
          "metadata": {
            "tags": []
          },
          "execution_count": 28
        },
        {
          "output_type": "display_data",
          "data": {
            "image/png": "[encoded data removed]",
            "text/plain": [
              "<Figure size 432x288 with 1 Axes>"
            ]
          },
          "metadata": {
            "tags": [],
            "needs_background": "light"
          }
        }
      ]
    },
    {
      "cell_type": "code",
      "metadata": {
        "colab": {
          "base_uri": "https://localhost:8080/",
          "height": 609
        },
        "id": "utAqYcC7gp0x",
        "outputId": "3a6f72ca-825d-476d-b27a-dbce2c111e8c"
      },
      "source": [
        "plt.figure(figsize=[15,10])\n",
        "plt.grid(True)\n",
        "plt.plot(ts, label=\"Data\")\n",
        "plt.plot(ts_sma4, label='SMA 4 Wks')\n",
        "plt.legend(loc=2)"
      ],
      "execution_count": 29,
      "outputs": [
        {
          "output_type": "execute_result",
          "data": {
            "text/plain": [
              "<matplotlib.legend.Legend at 0x7f2c244c1f10>"
            ]
          },
          "metadata": {
            "tags": []
          },
          "execution_count": 29
        },
        {
          "output_type": "display_data",
          "data": {
            "image/png": "[encoded data removed]",
            "text/plain": [
              "<Figure size 1080x720 with 1 Axes>"
            ]
          },
          "metadata": {
            "tags": [],
            "needs_background": "light"
          }
        }
      ]
    },
    {
      "cell_type": "code",
      "metadata": {
        "colab": {
          "base_uri": "https://localhost:8080/"
        },
        "id": "GhX0q6Shjmht",
        "outputId": "98e7dc09-cd0c-47b3-cd89-5413ab968cfd"
      },
      "source": [
        "ts_len = len(ts)\n",
        "split_idx = round(ts_len * 0.9)\n",
        "print(split_idx)\n",
        "train_ts = ts[0:split_idx]\n",
        "test_ts = ts[split_idx:]"
      ],
      "execution_count": 30,
      "outputs": [
        {
          "output_type": "stream",
          "text": [
            "104\n"
          ],
          "name": "stdout"
        }
      ]
    },
    {
      "cell_type": "code",
      "metadata": {
        "colab": {
          "base_uri": "https://localhost:8080/"
        },
        "id": "Wsmffg9Nlu6I",
        "outputId": "996c35d9-80d6-4685-e9ad-f19466ceacc3"
      },
      "source": [
        "train_ts"
      ],
      "execution_count": 31,
      "outputs": [
        {
          "output_type": "execute_result",
          "data": {
            "text/plain": [
              "YYYYWW\n",
              "201527     41\n",
              "201528     48\n",
              "201529     87\n",
              "201530     74\n",
              "201531    101\n",
              "         ... \n",
              "201720     79\n",
              "201721    130\n",
              "201722    202\n",
              "201723    117\n",
              "201724    152\n",
              "Name: IsCanceled, Length: 104, dtype: int64"
            ]
          },
          "metadata": {
            "tags": []
          },
          "execution_count": 31
        }
      ]
    },
    {
      "cell_type": "code",
      "metadata": {
        "colab": {
          "base_uri": "https://localhost:8080/"
        },
        "id": "CBr0e_zml5Us",
        "outputId": "a4be75ad-4fcd-4eb2-aa08-2e3cfd0bccbf"
      },
      "source": [
        "test_ts"
      ],
      "execution_count": 32,
      "outputs": [
        {
          "output_type": "execute_result",
          "data": {
            "text/plain": [
              "YYYYWW\n",
              "201725    131\n",
              "201726    161\n",
              "201727    131\n",
              "201728    139\n",
              "201729    150\n",
              "201730    157\n",
              "201731    173\n",
              "201732    140\n",
              "201733    182\n",
              "201734    143\n",
              "201735    100\n",
              "Name: IsCanceled, dtype: int64"
            ]
          },
          "metadata": {
            "tags": []
          },
          "execution_count": 32
        }
      ]
    },
    {
      "cell_type": "code",
      "metadata": {
        "colab": {
          "base_uri": "https://localhost:8080/"
        },
        "id": "CTYZ5VyzvF6j",
        "outputId": "d884118f-07f2-471a-ae4a-4d0f25f632ee"
      },
      "source": [
        "from pmdarima import auto_arima\n",
        "model=auto_arima(train_ts,\n",
        "                 start_p=0, start_q=0, max_p=10, max_q=10, start_P=0, start_Q=0, max_P=10, max_Q=10, m=51,\n",
        "                 stepwise=True, \n",
        "                 seasonal=True, \n",
        "                 information_criterion='bic', \n",
        "                 trace=True, \n",
        "                 d=1, D=1, \n",
        "                 error_action='warn', \n",
        "                 suppress_warnings=True, \n",
        "                 random_state = 3742828, \n",
        "                 n_fits=30)"
      ],
      "execution_count": 45,
      "outputs": [
        {
          "output_type": "stream",
          "text": [
            "Performing stepwise search to minimize bic\n",
            " ARIMA(0,1,0)(0,1,0)[51]             : BIC=600.759, Time=0.51 sec\n",
            " ARIMA(1,1,0)(1,1,0)[51]             : BIC=inf, Time=5.80 sec\n",
            " ARIMA(0,1,1)(0,1,1)[51]             : BIC=inf, Time=6.43 sec\n",
            " ARIMA(0,1,0)(1,1,0)[51]             : BIC=inf, Time=4.60 sec\n",
            " ARIMA(0,1,0)(0,1,1)[51]             : BIC=inf, Time=7.98 sec\n",
            " ARIMA(0,1,0)(1,1,1)[51]             : BIC=606.666, Time=6.60 sec\n",
            " ARIMA(1,1,0)(0,1,0)[51]             : BIC=585.398, Time=0.39 sec\n",
            " ARIMA(1,1,0)(0,1,1)[51]             : BIC=inf, Time=6.13 sec\n",
            " ARIMA(1,1,0)(1,1,1)[51]             : BIC=591.310, Time=9.60 sec\n",
            " ARIMA(2,1,0)(0,1,0)[51]             : BIC=582.690, Time=0.77 sec\n",
            " ARIMA(2,1,0)(1,1,0)[51]             : BIC=inf, Time=8.60 sec\n",
            " ARIMA(2,1,0)(0,1,1)[51]             : BIC=inf, Time=12.15 sec\n",
            " ARIMA(2,1,0)(1,1,1)[51]             : BIC=inf, Time=13.00 sec\n",
            " ARIMA(3,1,0)(0,1,0)[51]             : BIC=586.556, Time=1.16 sec\n",
            " ARIMA(2,1,1)(0,1,0)[51]             : BIC=inf, Time=1.69 sec\n",
            " ARIMA(1,1,1)(0,1,0)[51]             : BIC=inf, Time=1.63 sec\n",
            " ARIMA(3,1,1)(0,1,0)[51]             : BIC=inf, Time=2.16 sec\n",
            " ARIMA(2,1,0)(0,1,0)[51] intercept   : BIC=586.632, Time=1.49 sec\n",
            "\n",
            "Best model:  ARIMA(2,1,0)(0,1,0)[51]          \n",
            "Total fit time: 90.718 seconds\n"
          ],
          "name": "stdout"
        }
      ]
    },
    {
      "cell_type": "code",
      "metadata": {
        "colab": {
          "base_uri": "https://localhost:8080/"
        },
        "id": "AMX-PPvCwBXe",
        "outputId": "e326a944-e4c3-4626-fbc8-0be08052dcb2"
      },
      "source": [
        "model"
      ],
      "execution_count": 46,
      "outputs": [
        {
          "output_type": "execute_result",
          "data": {
            "text/plain": [
              "ARIMA(maxiter=50, method='lbfgs', order=(2, 1, 0), out_of_sample_size=0,\n",
              "      scoring='mse', scoring_args={}, seasonal_order=(0, 1, 0, 51),\n",
              "      start_params=None, suppress_warnings=True, trend=None,\n",
              "      with_intercept=False)"
            ]
          },
          "metadata": {
            "tags": []
          },
          "execution_count": 46
        }
      ]
    },
    {
      "cell_type": "code",
      "metadata": {
        "id": "cOld4ddgwyT9"
      },
      "source": [
        "forecast=pd.DataFrame(model.predict(n_periods=len(test_ts), index=test_ts.index))\n",
        "\n",
        "\n"
      ],
      "execution_count": 48,
      "outputs": []
    },
    {
      "cell_type": "code",
      "metadata": {
        "colab": {
          "base_uri": "https://localhost:8080/",
          "height": 390
        },
        "id": "mJ7kIbNZxONq",
        "outputId": "84f5961a-f750-42fc-d59a-cafccccee922"
      },
      "source": [
        "forecast"
      ],
      "execution_count": 49,
      "outputs": [
        {
          "output_type": "execute_result",
          "data": {
            "text/html": [
              "<div>\n",
              "<style scoped>\n",
              "    .dataframe tbody tr th:only-of-type {\n",
              "        vertical-align: middle;\n",
              "    }\n",
              "\n",
              "    .dataframe tbody tr th {\n",
              "        vertical-align: top;\n",
              "    }\n",
              "\n",
              "    .dataframe thead th {\n",
              "        text-align: right;\n",
              "    }\n",
              "</style>\n",
              "<table border=\"1\" class=\"dataframe\">\n",
              "  <thead>\n",
              "    <tr style=\"text-align: right;\">\n",
              "      <th></th>\n",
              "      <th>0</th>\n",
              "    </tr>\n",
              "  </thead>\n",
              "  <tbody>\n",
              "    <tr>\n",
              "      <th>0</th>\n",
              "      <td>145.855754</td>\n",
              "    </tr>\n",
              "    <tr>\n",
              "      <th>1</th>\n",
              "      <td>124.606906</td>\n",
              "    </tr>\n",
              "    <tr>\n",
              "      <th>2</th>\n",
              "      <td>184.754942</td>\n",
              "    </tr>\n",
              "    <tr>\n",
              "      <th>3</th>\n",
              "      <td>179.322844</td>\n",
              "    </tr>\n",
              "    <tr>\n",
              "      <th>4</th>\n",
              "      <td>156.479814</td>\n",
              "    </tr>\n",
              "    <tr>\n",
              "      <th>5</th>\n",
              "      <td>185.377701</td>\n",
              "    </tr>\n",
              "    <tr>\n",
              "      <th>6</th>\n",
              "      <td>208.493908</td>\n",
              "    </tr>\n",
              "    <tr>\n",
              "      <th>7</th>\n",
              "      <td>204.891524</td>\n",
              "    </tr>\n",
              "    <tr>\n",
              "      <th>8</th>\n",
              "      <td>178.255282</td>\n",
              "    </tr>\n",
              "    <tr>\n",
              "      <th>9</th>\n",
              "      <td>165.841650</td>\n",
              "    </tr>\n",
              "    <tr>\n",
              "      <th>10</th>\n",
              "      <td>181.024868</td>\n",
              "    </tr>\n",
              "  </tbody>\n",
              "</table>\n",
              "</div>"
            ],
            "text/plain": [
              "             0\n",
              "0   145.855754\n",
              "1   124.606906\n",
              "2   184.754942\n",
              "3   179.322844\n",
              "4   156.479814\n",
              "5   185.377701\n",
              "6   208.493908\n",
              "7   204.891524\n",
              "8   178.255282\n",
              "9   165.841650\n",
              "10  181.024868"
            ]
          },
          "metadata": {
            "tags": []
          },
          "execution_count": 49
        }
      ]
    },
    {
      "cell_type": "code",
      "metadata": {
        "colab": {
          "base_uri": "https://localhost:8080/"
        },
        "id": "LAMl2P4t0apJ",
        "outputId": "9a9e0ff0-8a5a-47f6-87e8-a9082609ad33"
      },
      "source": [
        "from sklearn import metrics\n",
        "rmse = np.sqrt(metrics.mean_squared_error(test_ts,forecast))\n",
        "print(rmse)"
      ],
      "execution_count": 53,
      "outputs": [
        {
          "output_type": "stream",
          "text": [
            "42.08160762158133\n"
          ],
          "name": "stdout"
        }
      ]
    }
  ]
}